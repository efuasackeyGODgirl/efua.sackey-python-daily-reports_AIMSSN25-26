{
 "cells": [
  {
   "cell_type": "code",
   "execution_count": 1,
   "id": "e05d8cbf",
   "metadata": {},
   "outputs": [],
   "source": [
    "def my_square(x):\n",
    "    '''\n",
    "    This function computes the square of a given number.\n",
    "    Input : a number x.\n",
    "    Output : the square of x.\n",
    "    '''\n",
    "    res = x*x\n",
    "    return res"
   ]
  },
  {
   "cell_type": "code",
   "execution_count": 2,
   "id": "af902f34",
   "metadata": {},
   "outputs": [
    {
     "data": {
      "text/plain": [
       "25"
      ]
     },
     "execution_count": 2,
     "metadata": {},
     "output_type": "execute_result"
    }
   ],
   "source": [
    "my_square(5)"
   ]
  },
  {
   "cell_type": "code",
   "execution_count": 3,
   "id": "6726f77b",
   "metadata": {},
   "outputs": [
    {
     "data": {
      "text/plain": [
       "function"
      ]
     },
     "execution_count": 3,
     "metadata": {},
     "output_type": "execute_result"
    }
   ],
   "source": [
    "type(my_square)"
   ]
  },
  {
   "cell_type": "code",
   "execution_count": 5,
   "id": "e124fa22",
   "metadata": {},
   "outputs": [
    {
     "data": {
      "text/plain": [
       "'\\n    This function computes the square of a given number.\\n    Input : a number x.\\n    Output : the square of x.\\n    '"
      ]
     },
     "execution_count": 5,
     "metadata": {},
     "output_type": "execute_result"
    }
   ],
   "source": [
    "my_square.__doc__"
   ]
  },
  {
   "cell_type": "code",
   "execution_count": 6,
   "id": "c00abdae",
   "metadata": {},
   "outputs": [],
   "source": [
    "def my_add(x,y):\n",
    "    \"\"\"\n",
    "    This function computes the sum of two given numbers.\n",
    "    Input : two numbers x and y\n",
    "    Output : x,y, and the sum of x and y\n",
    "    \"\"\"\n",
    "    return x,y,x+y"
   ]
  },
  {
   "cell_type": "code",
   "execution_count": 7,
   "id": "2fac1f93",
   "metadata": {},
   "outputs": [
    {
     "data": {
      "text/plain": [
       "(3, 5, 8)"
      ]
     },
     "execution_count": 7,
     "metadata": {},
     "output_type": "execute_result"
    }
   ],
   "source": [
    "my_add(3,5)"
   ]
  },
  {
   "cell_type": "code",
   "execution_count": 8,
   "id": "38a69067",
   "metadata": {},
   "outputs": [],
   "source": [
    "def fact(n):\n",
    "    if n <=1 :\n",
    "        return 1\n",
    "    return n*fact(n-1)"
   ]
  },
  {
   "cell_type": "code",
   "execution_count": 9,
   "id": "930c4ac0",
   "metadata": {},
   "outputs": [
    {
     "data": {
      "text/plain": [
       "720"
      ]
     },
     "execution_count": 9,
     "metadata": {},
     "output_type": "execute_result"
    }
   ],
   "source": [
    "fact(6)"
   ]
  },
  {
   "cell_type": "code",
   "execution_count": 31,
   "id": "99374850",
   "metadata": {},
   "outputs": [],
   "source": [
    "def fact1(n):\n",
    "    i=0\n",
    "    while i <= n:\n",
    "        if i <= 1:\n",
    "            return 1\n",
    "        i += 1\n",
    "        return i"
   ]
  },
  {
   "cell_type": "code",
   "execution_count": 32,
   "id": "e6227ee3",
   "metadata": {},
   "outputs": [
    {
     "data": {
      "text/plain": [
       "1"
      ]
     },
     "execution_count": 32,
     "metadata": {},
     "output_type": "execute_result"
    }
   ],
   "source": [
    "fact1(6)"
   ]
  },
  {
   "cell_type": "code",
   "execution_count": 16,
   "id": "e499eb5e",
   "metadata": {},
   "outputs": [],
   "source": [
    "def fib(b):\n",
    "    if b == 0:\n",
    "        return 0\n",
    "    if b == 1:\n",
    "        return 1\n",
    "    if b >1:\n",
    "        return fib(b-2) + fib(b-1)"
   ]
  },
  {
   "cell_type": "code",
   "execution_count": 19,
   "id": "d6e6fc54",
   "metadata": {},
   "outputs": [
    {
     "data": {
      "text/plain": [
       "(0, 1, 1, 2, 3, 5, 8, 13, 21)"
      ]
     },
     "execution_count": 19,
     "metadata": {},
     "output_type": "execute_result"
    }
   ],
   "source": [
    "fib(0),fib(1),fib(2),fib(3),fib(4),fib(5),fib(6),fib(7),fib(8)"
   ]
  },
  {
   "cell_type": "code",
   "execution_count": null,
   "id": "9ef0bb59",
   "metadata": {},
   "outputs": [],
   "source": []
  }
 ],
 "metadata": {
  "kernelspec": {
   "display_name": "Python 3 (ipykernel)",
   "language": "python",
   "name": "python3"
  },
  "language_info": {
   "codemirror_mode": {
    "name": "ipython",
    "version": 3
   },
   "file_extension": ".py",
   "mimetype": "text/x-python",
   "name": "python",
   "nbconvert_exporter": "python",
   "pygments_lexer": "ipython3",
   "version": "3.10.12"
  }
 },
 "nbformat": 4,
 "nbformat_minor": 5
}
