{
 "cells": [
  {
   "cell_type": "code",
   "execution_count": 1,
   "id": "0e3c6cf9",
   "metadata": {},
   "outputs": [
    {
     "name": "stdout",
     "output_type": "stream",
     "text": [
      "10\n"
     ]
    }
   ],
   "source": [
    "a = 10\n",
    "print(a)"
   ]
  },
  {
   "cell_type": "code",
   "execution_count": 2,
   "id": "66329359",
   "metadata": {},
   "outputs": [],
   "source": [
    "if a < 0:\n",
    "    print(a,'is cool')"
   ]
  },
  {
   "cell_type": "code",
   "execution_count": 3,
   "id": "84faab46",
   "metadata": {},
   "outputs": [
    {
     "name": "stdout",
     "output_type": "stream",
     "text": [
      "10 is cool\n"
     ]
    }
   ],
   "source": [
    "if a > 0:\n",
    "    print(a,'is cool')"
   ]
  },
  {
   "cell_type": "code",
   "execution_count": 4,
   "id": "684ce112",
   "metadata": {},
   "outputs": [
    {
     "name": "stdout",
     "output_type": "stream",
     "text": [
      "45 is cool\n"
     ]
    }
   ],
   "source": [
    "a = 45\n",
    "if a < 0:\n",
    "    print(a,'is not cool')\n",
    "else :\n",
    "    print(a,'is cool')"
   ]
  },
  {
   "cell_type": "code",
   "execution_count": 5,
   "id": "541a891a",
   "metadata": {},
   "outputs": [
    {
     "name": "stdout",
     "output_type": "stream",
     "text": [
      "-3 is not cool\n"
     ]
    }
   ],
   "source": [
    "a = -3\n",
    "if a < 0:\n",
    "    print(a,'is not cool')\n",
    "else :\n",
    "    print(a,'is cool')"
   ]
  },
  {
   "cell_type": "code",
   "execution_count": 6,
   "id": "cff58e05",
   "metadata": {},
   "outputs": [
    {
     "name": "stdout",
     "output_type": "stream",
     "text": [
      "0 is cool\n"
     ]
    }
   ],
   "source": [
    "a = 0\n",
    "if a < 0:\n",
    "    print(a,'is not cool')\n",
    "else :\n",
    "    print(a,'is cool')"
   ]
  },
  {
   "cell_type": "code",
   "execution_count": 7,
   "id": "282e2267",
   "metadata": {},
   "outputs": [],
   "source": [
    "#0 is cool because the opposite of negative is positive or 0.\n",
    "#i.e >= 0. Hence let us introduce elif to captue the \n",
    "#subconditions"
   ]
  },
  {
   "cell_type": "code",
   "execution_count": 8,
   "id": "572e3b0d",
   "metadata": {},
   "outputs": [
    {
     "name": "stdout",
     "output_type": "stream",
     "text": [
      "0 is really cool\n"
     ]
    }
   ],
   "source": [
    "a = 0\n",
    "if a < 0:\n",
    "    print(a,'is not cool')\n",
    "elif a == 0:\n",
    "    print(a,'is really cool')\n",
    "else :\n",
    "    print(a,'is cool')"
   ]
  },
  {
   "cell_type": "code",
   "execution_count": 11,
   "id": "4200960f",
   "metadata": {},
   "outputs": [
    {
     "name": "stdout",
     "output_type": "stream",
     "text": [
      "Input a number: -9\n",
      "-9 is not cool\n"
     ]
    }
   ],
   "source": [
    "a = int(input('Input a number: '))\n",
    "if a < 0:\n",
    "    print(a,'is not cool')\n",
    "elif a == 0:\n",
    "    print(a,'is really cool')\n",
    "else :\n",
    "    print(a,'is cool')"
   ]
  },
  {
   "cell_type": "code",
   "execution_count": 15,
   "id": "cc174dc3",
   "metadata": {},
   "outputs": [
    {
     "name": "stdout",
     "output_type": "stream",
     "text": [
      "a is greater than b\n",
      "the difference between a and b is 5 or less\n"
     ]
    }
   ],
   "source": [
    "a,b = 6,3\n",
    "\n",
    "if a > b:\n",
    "    print('a is greater than b')\n",
    "    if a-b>5:\n",
    "        print('the difference between a and b is greater than 5')\n",
    "    else:\n",
    "        print('the difference between a and b is 5 or less')\n",
    "else:\n",
    "    print('a is not greater than b')"
   ]
  },
  {
   "cell_type": "code",
   "execution_count": 16,
   "id": "9922feb9",
   "metadata": {},
   "outputs": [],
   "source": [
    "#Two types of loops: while and for\n",
    "#while loops are used to execute a block of instructions\n",
    "#as long as a particular condition is satisfied and the idea\n",
    "#is for it to run and increments done until the condition\n",
    "#is violated. Thus for our while loop to not run forever,\n",
    "#the increment counter and our condition is very necesary\n",
    "\n",
    "\n",
    "#the for loop on the other hand is used to iterate through\n",
    "#a sequence of values and then perform a set of instructions.\n",
    "#Here, no counter or condition is necessary on the for line.\n"
   ]
  },
  {
   "cell_type": "code",
   "execution_count": 17,
   "id": "f8f87d8b",
   "metadata": {},
   "outputs": [
    {
     "name": "stdout",
     "output_type": "stream",
     "text": [
      "h\n",
      "t\n",
      "s\n",
      "j\n",
      "c\n"
     ]
    }
   ],
   "source": [
    "for char in 'htsjc':\n",
    "    print(char)"
   ]
  },
  {
   "cell_type": "code",
   "execution_count": 18,
   "id": "fd824338",
   "metadata": {},
   "outputs": [
    {
     "name": "stdout",
     "output_type": "stream",
     "text": [
      "apple\n",
      "banana\n",
      "mango\n"
     ]
    }
   ],
   "source": [
    "for char in ['apple','banana','mango']:\n",
    "    print(char)"
   ]
  },
  {
   "cell_type": "code",
   "execution_count": 19,
   "id": "b9893f14",
   "metadata": {},
   "outputs": [
    {
     "name": "stdout",
     "output_type": "stream",
     "text": [
      "3\n",
      "5\n",
      "6\n"
     ]
    }
   ],
   "source": [
    "for char in (3,5,6):\n",
    "    print(char)"
   ]
  },
  {
   "cell_type": "code",
   "execution_count": 20,
   "id": "3ada8c96",
   "metadata": {},
   "outputs": [
    {
     "name": "stdout",
     "output_type": "stream",
     "text": [
      "e\n",
      "a\n",
      "o\n"
     ]
    }
   ],
   "source": [
    "for item in ['apple','banana','mango']:\n",
    "    print(item[-1])"
   ]
  },
  {
   "cell_type": "code",
   "execution_count": 21,
   "id": "413a32c0",
   "metadata": {},
   "outputs": [],
   "source": [
    "#I can call the elements of my sequence of variables any\n",
    "#thing I want."
   ]
  },
  {
   "cell_type": "code",
   "execution_count": 22,
   "id": "7395e76b",
   "metadata": {},
   "outputs": [
    {
     "name": "stdout",
     "output_type": "stream",
     "text": [
      "1\n",
      "4\n",
      "9\n",
      "16\n",
      "25\n",
      "36\n"
     ]
    }
   ],
   "source": [
    "cher = 1\n",
    "while cher < 7:\n",
    "    print(cher**2)\n",
    "    cher +=1"
   ]
  },
  {
   "cell_type": "code",
   "execution_count": 24,
   "id": "b0aab915",
   "metadata": {},
   "outputs": [
    {
     "name": "stdout",
     "output_type": "stream",
     "text": [
      "1\n",
      "1\n",
      "============\n",
      "2\n",
      "4\n",
      "============\n",
      "3\n",
      "9\n",
      "============\n",
      "4\n",
      "16\n",
      "============\n",
      "5\n",
      "25\n",
      "============\n",
      "6\n",
      "36\n",
      "============\n"
     ]
    }
   ],
   "source": [
    "cher = 1\n",
    "while cher < 7:\n",
    "    print(cher)\n",
    "    print(cher**2)\n",
    "    print('============')\n",
    "    cher +=1"
   ]
  },
  {
   "cell_type": "code",
   "execution_count": 25,
   "id": "3ddfb913",
   "metadata": {},
   "outputs": [
    {
     "data": {
      "text/plain": [
       "[6, 0, 4, 4]"
      ]
     },
     "execution_count": 25,
     "metadata": {},
     "output_type": "execute_result"
    }
   ],
   "source": [
    "even = []\n",
    "list_numbers = [6,7,9,0,4,3,3,4,1,9,5]\n",
    "\n",
    "for i in list_numbers:\n",
    "    if i%2 == 0:\n",
    "        even.append(i)\n",
    "        \n",
    "even"
   ]
  },
  {
   "cell_type": "code",
   "execution_count": 38,
   "id": "0db63612",
   "metadata": {},
   "outputs": [
    {
     "name": "stdout",
     "output_type": "stream",
     "text": [
      "The sum of odd numbers in this list is 37\n"
     ]
    }
   ],
   "source": [
    "list_numbers = [6,7,9,0,4,3,3,4,1,9,5]\n",
    "sum_odd=0\n",
    "for i in list_numbers:\n",
    "    if i%2 == 1:\n",
    "        sum_odd += i\n",
    "        \n",
    "print(f'The sum of odd numbers in this list is {sum_odd}')"
   ]
  },
  {
   "cell_type": "code",
   "execution_count": 28,
   "id": "3314ebf3",
   "metadata": {},
   "outputs": [
    {
     "data": {
      "text/plain": [
       "12"
      ]
     },
     "execution_count": 28,
     "metadata": {},
     "output_type": "execute_result"
    }
   ],
   "source": [
    "sum([3,4,5])"
   ]
  },
  {
   "cell_type": "code",
   "execution_count": null,
   "id": "efa907cc",
   "metadata": {},
   "outputs": [],
   "source": []
  }
 ],
 "metadata": {
  "kernelspec": {
   "display_name": "Python 3 (ipykernel)",
   "language": "python",
   "name": "python3"
  },
  "language_info": {
   "codemirror_mode": {
    "name": "ipython",
    "version": 3
   },
   "file_extension": ".py",
   "mimetype": "text/x-python",
   "name": "python",
   "nbconvert_exporter": "python",
   "pygments_lexer": "ipython3",
   "version": "3.10.12"
  }
 },
 "nbformat": 4,
 "nbformat_minor": 5
}
