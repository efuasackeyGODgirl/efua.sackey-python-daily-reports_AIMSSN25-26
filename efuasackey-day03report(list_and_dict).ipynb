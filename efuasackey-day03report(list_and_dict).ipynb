{
 "cells": [
  {
   "cell_type": "markdown",
   "id": "a6c7af2b",
   "metadata": {},
   "source": [
    "# Lists "
   ]
  },
  {
   "cell_type": "code",
   "execution_count": 1,
   "id": "b3304928",
   "metadata": {},
   "outputs": [],
   "source": [
    "my_first_list = ['Efua','GODgirl','Sackey',23,13.5]"
   ]
  },
  {
   "cell_type": "code",
   "execution_count": 2,
   "id": "bf67eb2b",
   "metadata": {},
   "outputs": [
    {
     "name": "stdout",
     "output_type": "stream",
     "text": [
      "['Efua', 'GODgirl', 'Sackey', 23, 13.5]\n"
     ]
    }
   ],
   "source": [
    "print(my_first_list)"
   ]
  },
  {
   "cell_type": "code",
   "execution_count": 3,
   "id": "abf35dd3",
   "metadata": {},
   "outputs": [
    {
     "data": {
      "text/plain": [
       "list"
      ]
     },
     "execution_count": 3,
     "metadata": {},
     "output_type": "execute_result"
    }
   ],
   "source": [
    "type(my_first_list)"
   ]
  },
  {
   "cell_type": "code",
   "execution_count": 4,
   "id": "35a4d690",
   "metadata": {},
   "outputs": [],
   "source": [
    "my_sib_one = ['Kojo','King','Sackey',25,4.2]\n",
    "my_sib_two = ['Esi','Gg','Sackey',19,5.6]"
   ]
  },
  {
   "cell_type": "code",
   "execution_count": 5,
   "id": "fa87be41",
   "metadata": {},
   "outputs": [],
   "source": [
    "my_family = [my_sib_one,my_first_list,my_sib_two]"
   ]
  },
  {
   "cell_type": "code",
   "execution_count": 9,
   "id": "10d7e783",
   "metadata": {},
   "outputs": [
    {
     "name": "stdout",
     "output_type": "stream",
     "text": [
      "[['Kojo', 'King', 'Sackey', 25, 4.2], ['Efua', 'GODgirl', 'Sackey', 23, 13.5], ['Esi', 'Gg', 'Sackey', 19, 5.6]]\n"
     ]
    }
   ],
   "source": [
    "print(my_family)"
   ]
  },
  {
   "cell_type": "code",
   "execution_count": 10,
   "id": "385a0bef",
   "metadata": {},
   "outputs": [
    {
     "data": {
      "text/plain": [
       "list"
      ]
     },
     "execution_count": 10,
     "metadata": {},
     "output_type": "execute_result"
    }
   ],
   "source": [
    "type(my_family)"
   ]
  },
  {
   "cell_type": "code",
   "execution_count": 12,
   "id": "62a0af02",
   "metadata": {},
   "outputs": [
    {
     "data": {
      "text/plain": [
       "['Esi', 'Gg', 'Sackey', 19, 5.6]"
      ]
     },
     "execution_count": 12,
     "metadata": {},
     "output_type": "execute_result"
    }
   ],
   "source": [
    "#a list can store different data types\n",
    "\n",
    "my_family[2]"
   ]
  },
  {
   "cell_type": "code",
   "execution_count": 13,
   "id": "47e91034",
   "metadata": {},
   "outputs": [
    {
     "data": {
      "text/plain": [
       "'Gg'"
      ]
     },
     "execution_count": 13,
     "metadata": {},
     "output_type": "execute_result"
    }
   ],
   "source": [
    "my_family[2][1]"
   ]
  },
  {
   "cell_type": "code",
   "execution_count": 14,
   "id": "43fad16e",
   "metadata": {},
   "outputs": [
    {
     "data": {
      "text/plain": [
       "['Kojo', 'King', 'Sackey', 25, 4.2, 'Esi', 'Gg', 'Sackey', 19, 5.6]"
      ]
     },
     "execution_count": 14,
     "metadata": {},
     "output_type": "execute_result"
    }
   ],
   "source": [
    "my_sib_one + my_sib_two"
   ]
  },
  {
   "cell_type": "code",
   "execution_count": 15,
   "id": "54c02ec4",
   "metadata": {},
   "outputs": [
    {
     "data": {
      "text/plain": [
       "['Esi', 'Gg', 'Sackey', 19, 5.6, 'Kojo', 'King', 'Sackey', 25, 4.2]"
      ]
     },
     "execution_count": 15,
     "metadata": {},
     "output_type": "execute_result"
    }
   ],
   "source": [
    "my_sib_two + my_sib_one"
   ]
  },
  {
   "cell_type": "code",
   "execution_count": 16,
   "id": "46031dbf",
   "metadata": {},
   "outputs": [],
   "source": [
    "my_sib_one.append(7)"
   ]
  },
  {
   "cell_type": "code",
   "execution_count": 17,
   "id": "fea036d6",
   "metadata": {},
   "outputs": [
    {
     "data": {
      "text/plain": [
       "['Kojo', 'King', 'Sackey', 25, 4.2, 7]"
      ]
     },
     "execution_count": 17,
     "metadata": {},
     "output_type": "execute_result"
    }
   ],
   "source": [
    "my_sib_one"
   ]
  },
  {
   "cell_type": "code",
   "execution_count": 18,
   "id": "1830c726",
   "metadata": {},
   "outputs": [
    {
     "ename": "TypeError",
     "evalue": "'int' object is not iterable",
     "output_type": "error",
     "traceback": [
      "\u001b[0;31m---------------------------------------------------------------------------\u001b[0m",
      "\u001b[0;31mTypeError\u001b[0m                                 Traceback (most recent call last)",
      "\u001b[0;32m/tmp/ipykernel_10482/3121912835.py\u001b[0m in \u001b[0;36m<module>\u001b[0;34m\u001b[0m\n\u001b[0;32m----> 1\u001b[0;31m \u001b[0mmy_sib_one\u001b[0m\u001b[0;34m.\u001b[0m\u001b[0mextend\u001b[0m\u001b[0;34m(\u001b[0m\u001b[0;36m1\u001b[0m\u001b[0;34m)\u001b[0m\u001b[0;34m\u001b[0m\u001b[0;34m\u001b[0m\u001b[0m\n\u001b[0m",
      "\u001b[0;31mTypeError\u001b[0m: 'int' object is not iterable"
     ]
    }
   ],
   "source": [
    "my_sib_one.extend(1)"
   ]
  },
  {
   "cell_type": "code",
   "execution_count": 19,
   "id": "d9c76715",
   "metadata": {},
   "outputs": [],
   "source": [
    "?my_sib_one.extend"
   ]
  },
  {
   "cell_type": "code",
   "execution_count": 20,
   "id": "fd97976e",
   "metadata": {},
   "outputs": [],
   "source": [
    "#extend can only be applied on data types that are iterable.\n",
    "#if the argument passed to extend is not a data type that we can iterate\n",
    "#over, then we encounter an error.\n",
    "\n",
    "my_sib_one.extend([7])"
   ]
  },
  {
   "cell_type": "code",
   "execution_count": 21,
   "id": "cf1915ae",
   "metadata": {},
   "outputs": [
    {
     "data": {
      "text/plain": [
       "['Kojo', 'King', 'Sackey', 25, 4.2, 7, 7]"
      ]
     },
     "execution_count": 21,
     "metadata": {},
     "output_type": "execute_result"
    }
   ],
   "source": [
    "my_sib_one"
   ]
  },
  {
   "cell_type": "code",
   "execution_count": 22,
   "id": "f79ccda6",
   "metadata": {},
   "outputs": [],
   "source": [
    "my_sib_one.extend([8,9,10])"
   ]
  },
  {
   "cell_type": "code",
   "execution_count": 23,
   "id": "db2131c5",
   "metadata": {},
   "outputs": [
    {
     "data": {
      "text/plain": [
       "['Kojo', 'King', 'Sackey', 25, 4.2, 7, 7, 8, 9, 10]"
      ]
     },
     "execution_count": 23,
     "metadata": {},
     "output_type": "execute_result"
    }
   ],
   "source": [
    "my_sib_one"
   ]
  },
  {
   "cell_type": "code",
   "execution_count": 25,
   "id": "137b2f63",
   "metadata": {},
   "outputs": [],
   "source": [
    "my_sib_one.extend({3:4,5:6})"
   ]
  },
  {
   "cell_type": "code",
   "execution_count": 26,
   "id": "1a475d51",
   "metadata": {},
   "outputs": [
    {
     "data": {
      "text/plain": [
       "['Kojo', 'King', 'Sackey', 25, 4.2, 7, 7, 8, 9, 10, {3: 4, 5: 6}, 3, 5]"
      ]
     },
     "execution_count": 26,
     "metadata": {},
     "output_type": "execute_result"
    }
   ],
   "source": [
    "my_sib_one"
   ]
  },
  {
   "cell_type": "code",
   "execution_count": 35,
   "id": "773085ec",
   "metadata": {},
   "outputs": [],
   "source": [
    "#we are able to extend a list by a dictionary because a dictionary is\n",
    "#iterable. But we only get the key values.\n",
    "my_sib_one.extend({'Maame':8,'Aseye':5,'Akpene':7})"
   ]
  },
  {
   "cell_type": "code",
   "execution_count": 27,
   "id": "7c619a6f",
   "metadata": {},
   "outputs": [
    {
     "ename": "TypeError",
     "evalue": "'dict' object cannot be interpreted as an integer",
     "output_type": "error",
     "traceback": [
      "\u001b[0;31m---------------------------------------------------------------------------\u001b[0m",
      "\u001b[0;31mTypeError\u001b[0m                                 Traceback (most recent call last)",
      "\u001b[0;32m/tmp/ipykernel_10482/3063371218.py\u001b[0m in \u001b[0;36m<module>\u001b[0;34m\u001b[0m\n\u001b[0;32m----> 1\u001b[0;31m \u001b[0mmy_sib_one\u001b[0m\u001b[0;34m.\u001b[0m\u001b[0mpop\u001b[0m\u001b[0;34m(\u001b[0m\u001b[0;34m{\u001b[0m\u001b[0;36m3\u001b[0m\u001b[0;34m:\u001b[0m\u001b[0;36m4\u001b[0m\u001b[0;34m,\u001b[0m\u001b[0;36m5\u001b[0m\u001b[0;34m:\u001b[0m\u001b[0;36m6\u001b[0m\u001b[0;34m}\u001b[0m\u001b[0;34m)\u001b[0m\u001b[0;34m\u001b[0m\u001b[0;34m\u001b[0m\u001b[0m\n\u001b[0m",
      "\u001b[0;31mTypeError\u001b[0m: 'dict' object cannot be interpreted as an integer"
     ]
    }
   ],
   "source": [
    "my_sib_one.pop({3:4,5:6})"
   ]
  },
  {
   "cell_type": "code",
   "execution_count": 28,
   "id": "6a900f93",
   "metadata": {},
   "outputs": [
    {
     "ename": "AttributeError",
     "evalue": "'list' object has no attribute 'find'",
     "output_type": "error",
     "traceback": [
      "\u001b[0;31m---------------------------------------------------------------------------\u001b[0m",
      "\u001b[0;31mAttributeError\u001b[0m                            Traceback (most recent call last)",
      "\u001b[0;32m/tmp/ipykernel_10482/2676283534.py\u001b[0m in \u001b[0;36m<module>\u001b[0;34m\u001b[0m\n\u001b[0;32m----> 1\u001b[0;31m \u001b[0mmy_sib_one\u001b[0m\u001b[0;34m.\u001b[0m\u001b[0mfind\u001b[0m\u001b[0;34m(\u001b[0m\u001b[0;34m{\u001b[0m\u001b[0;36m3\u001b[0m\u001b[0;34m:\u001b[0m\u001b[0;36m4\u001b[0m\u001b[0;34m,\u001b[0m\u001b[0;36m5\u001b[0m\u001b[0;34m:\u001b[0m\u001b[0;36m6\u001b[0m\u001b[0;34m}\u001b[0m\u001b[0;34m)\u001b[0m\u001b[0;34m\u001b[0m\u001b[0;34m\u001b[0m\u001b[0m\n\u001b[0m",
      "\u001b[0;31mAttributeError\u001b[0m: 'list' object has no attribute 'find'"
     ]
    }
   ],
   "source": [
    "my_sib_one.find({3:4,5:6})"
   ]
  },
  {
   "cell_type": "code",
   "execution_count": 29,
   "id": "5640b623",
   "metadata": {},
   "outputs": [],
   "source": [
    "my_sib_one.index?"
   ]
  },
  {
   "cell_type": "code",
   "execution_count": 30,
   "id": "1fb9c7d2",
   "metadata": {},
   "outputs": [
    {
     "data": {
      "text/plain": [
       "10"
      ]
     },
     "execution_count": 30,
     "metadata": {},
     "output_type": "execute_result"
    }
   ],
   "source": [
    "my_sib_one.index({3:4,5:6})"
   ]
  },
  {
   "cell_type": "code",
   "execution_count": 46,
   "id": "97afb692",
   "metadata": {},
   "outputs": [],
   "source": [
    "#index is used to get the index of a particular element in the list"
   ]
  },
  {
   "cell_type": "code",
   "execution_count": 31,
   "id": "aa076e33",
   "metadata": {},
   "outputs": [
    {
     "data": {
      "text/plain": [
       "{3: 4, 5: 6}"
      ]
     },
     "execution_count": 31,
     "metadata": {},
     "output_type": "execute_result"
    }
   ],
   "source": [
    "my_sib_one.pop(10)"
   ]
  },
  {
   "cell_type": "code",
   "execution_count": 45,
   "id": "ddf62219",
   "metadata": {},
   "outputs": [],
   "source": [
    "#pop is used to remove the element at a specific index"
   ]
  },
  {
   "cell_type": "code",
   "execution_count": 32,
   "id": "2869863d",
   "metadata": {},
   "outputs": [
    {
     "data": {
      "text/plain": [
       "['Kojo', 'King', 'Sackey', 25, 4.2, 7, 7, 8, 9, 10, 3, 5]"
      ]
     },
     "execution_count": 32,
     "metadata": {},
     "output_type": "execute_result"
    }
   ],
   "source": [
    "my_sib_one"
   ]
  },
  {
   "cell_type": "code",
   "execution_count": 33,
   "id": "b05a67b8",
   "metadata": {},
   "outputs": [
    {
     "data": {
      "text/plain": [
       "['Kojo',\n",
       " 'King',\n",
       " 'Sackey',\n",
       " 25,\n",
       " 4.2,\n",
       " 7,\n",
       " 7,\n",
       " 8,\n",
       " 9,\n",
       " 10,\n",
       " 3,\n",
       " 5,\n",
       " 'Kojo',\n",
       " 'King',\n",
       " 'Sackey',\n",
       " 25,\n",
       " 4.2,\n",
       " 7,\n",
       " 7,\n",
       " 8,\n",
       " 9,\n",
       " 10,\n",
       " 3,\n",
       " 5]"
      ]
     },
     "execution_count": 33,
     "metadata": {},
     "output_type": "execute_result"
    }
   ],
   "source": [
    "2*my_sib_one"
   ]
  },
  {
   "cell_type": "code",
   "execution_count": 34,
   "id": "d1ee627a",
   "metadata": {},
   "outputs": [
    {
     "ename": "TypeError",
     "evalue": "can't multiply sequence by non-int of type 'float'",
     "output_type": "error",
     "traceback": [
      "\u001b[0;31m---------------------------------------------------------------------------\u001b[0m",
      "\u001b[0;31mTypeError\u001b[0m                                 Traceback (most recent call last)",
      "\u001b[0;32m/tmp/ipykernel_10482/311820748.py\u001b[0m in \u001b[0;36m<module>\u001b[0;34m\u001b[0m\n\u001b[0;32m----> 1\u001b[0;31m \u001b[0;36m2.5\u001b[0m\u001b[0;34m*\u001b[0m\u001b[0mmy_sib_one\u001b[0m\u001b[0;34m\u001b[0m\u001b[0;34m\u001b[0m\u001b[0m\n\u001b[0m",
      "\u001b[0;31mTypeError\u001b[0m: can't multiply sequence by non-int of type 'float'"
     ]
    }
   ],
   "source": [
    "2.5*my_sib_one"
   ]
  },
  {
   "cell_type": "code",
   "execution_count": 36,
   "id": "edf755d4",
   "metadata": {},
   "outputs": [
    {
     "data": {
      "text/plain": [
       "['Kojo',\n",
       " 'King',\n",
       " 'Sackey',\n",
       " 25,\n",
       " 4.2,\n",
       " 7,\n",
       " 7,\n",
       " 8,\n",
       " 9,\n",
       " 10,\n",
       " 3,\n",
       " 5,\n",
       " 'Maame',\n",
       " 'Aseye',\n",
       " 'Akpene']"
      ]
     },
     "execution_count": 36,
     "metadata": {},
     "output_type": "execute_result"
    }
   ],
   "source": [
    "my_sib_one"
   ]
  },
  {
   "cell_type": "markdown",
   "id": "82bf942f",
   "metadata": {},
   "source": [
    "# Dictionaries"
   ]
  },
  {
   "cell_type": "code",
   "execution_count": 38,
   "id": "0a9b5e86",
   "metadata": {},
   "outputs": [],
   "source": [
    "my_dict = {'me':['Efua',23],'frnd1':['Aseye',22],'frnd2':['Akpene',23],'frnd3':['Maame',23]}"
   ]
  },
  {
   "cell_type": "code",
   "execution_count": 39,
   "id": "646d4d9b",
   "metadata": {},
   "outputs": [
    {
     "data": {
      "text/plain": [
       "{'me': ['Efua', 23],\n",
       " 'frnd1': ['Aseye', 22],\n",
       " 'frnd2': ['Akpene', 23],\n",
       " 'frnd3': ['Maame', 23]}"
      ]
     },
     "execution_count": 39,
     "metadata": {},
     "output_type": "execute_result"
    }
   ],
   "source": [
    "my_dict"
   ]
  },
  {
   "cell_type": "code",
   "execution_count": 40,
   "id": "0f94ee7c",
   "metadata": {},
   "outputs": [
    {
     "data": {
      "text/plain": [
       "['Aseye', 22]"
      ]
     },
     "execution_count": 40,
     "metadata": {},
     "output_type": "execute_result"
    }
   ],
   "source": [
    "my_dict['frnd1']"
   ]
  },
  {
   "cell_type": "code",
   "execution_count": 41,
   "id": "fa18a671",
   "metadata": {},
   "outputs": [],
   "source": [
    "my_dict['frnd0'] = ['Kaks',22.5]"
   ]
  },
  {
   "cell_type": "code",
   "execution_count": 42,
   "id": "b8aef9b6",
   "metadata": {},
   "outputs": [
    {
     "data": {
      "text/plain": [
       "{'me': ['Efua', 23],\n",
       " 'frnd1': ['Aseye', 22],\n",
       " 'frnd2': ['Akpene', 23],\n",
       " 'frnd3': ['Maame', 23],\n",
       " 'frnd0': ['Kaks', 22.5]}"
      ]
     },
     "execution_count": 42,
     "metadata": {},
     "output_type": "execute_result"
    }
   ],
   "source": [
    "my_dict"
   ]
  },
  {
   "cell_type": "code",
   "execution_count": 43,
   "id": "0da07a85",
   "metadata": {},
   "outputs": [],
   "source": [
    "my_dict['frnd0'] = ['Pops',31]"
   ]
  },
  {
   "cell_type": "code",
   "execution_count": 44,
   "id": "f9110dac",
   "metadata": {},
   "outputs": [
    {
     "data": {
      "text/plain": [
       "{'me': ['Efua', 23],\n",
       " 'frnd1': ['Aseye', 22],\n",
       " 'frnd2': ['Akpene', 23],\n",
       " 'frnd3': ['Maame', 23],\n",
       " 'frnd0': ['Pops', 31]}"
      ]
     },
     "execution_count": 44,
     "metadata": {},
     "output_type": "execute_result"
    }
   ],
   "source": [
    "my_dict"
   ]
  },
  {
   "cell_type": "code",
   "execution_count": 47,
   "id": "a06db001",
   "metadata": {},
   "outputs": [],
   "source": [
    "my_dict0 = {'frndA':'happy','frndB':'joyful','frndA':'favoured','frndC':'blessed'}"
   ]
  },
  {
   "cell_type": "code",
   "execution_count": 48,
   "id": "6492d4ea",
   "metadata": {},
   "outputs": [
    {
     "data": {
      "text/plain": [
       "{'frndA': 'favoured', 'frndB': 'joyful', 'frndC': 'blessed'}"
      ]
     },
     "execution_count": 48,
     "metadata": {},
     "output_type": "execute_result"
    }
   ],
   "source": [
    "my_dict0"
   ]
  },
  {
   "cell_type": "code",
   "execution_count": 49,
   "id": "0c79bbca",
   "metadata": {},
   "outputs": [],
   "source": [
    "#assigning a a key to more than one value. python uses the last one to be\n",
    "#called."
   ]
  },
  {
   "cell_type": "code",
   "execution_count": 50,
   "id": "f9d80bc1",
   "metadata": {},
   "outputs": [
    {
     "data": {
      "text/plain": [
       "dict_items([('me', ['Efua', 23]), ('frnd1', ['Aseye', 22]), ('frnd2', ['Akpene', 23]), ('frnd3', ['Maame', 23]), ('frnd0', ['Pops', 31])])"
      ]
     },
     "execution_count": 50,
     "metadata": {},
     "output_type": "execute_result"
    }
   ],
   "source": [
    "my_dict.items()"
   ]
  },
  {
   "cell_type": "code",
   "execution_count": 51,
   "id": "23a6b223",
   "metadata": {},
   "outputs": [
    {
     "data": {
      "text/plain": [
       "dict_keys(['frndA', 'frndB', 'frndC'])"
      ]
     },
     "execution_count": 51,
     "metadata": {},
     "output_type": "execute_result"
    }
   ],
   "source": [
    "my_dict0.keys()"
   ]
  },
  {
   "cell_type": "code",
   "execution_count": 52,
   "id": "82d7629b",
   "metadata": {},
   "outputs": [],
   "source": [
    "my_dict1 = {'Doc yae':['Python','Bloc 1'],'Pathe':['Tutor','AIMS-SN']}\n",
    "my_dict2 = {'Fatoumata':5,'Khadidia':42}"
   ]
  },
  {
   "cell_type": "code",
   "execution_count": 53,
   "id": "18f52d42",
   "metadata": {},
   "outputs": [],
   "source": [
    "my_dict1.update?"
   ]
  },
  {
   "cell_type": "code",
   "execution_count": 54,
   "id": "30f8cb0e",
   "metadata": {},
   "outputs": [],
   "source": [
    "my_dict1.update(my_dict2)"
   ]
  },
  {
   "cell_type": "code",
   "execution_count": 55,
   "id": "19900c4e",
   "metadata": {},
   "outputs": [
    {
     "data": {
      "text/plain": [
       "{'Doc yae': ['Python', 'Bloc 1'],\n",
       " 'Pathe': ['Tutor', 'AIMS-SN'],\n",
       " 'Fatoumata': 5,\n",
       " 'Khadidia': 42}"
      ]
     },
     "execution_count": 55,
     "metadata": {},
     "output_type": "execute_result"
    }
   ],
   "source": [
    "my_dict1"
   ]
  },
  {
   "cell_type": "code",
   "execution_count": 64,
   "id": "9b2caf87",
   "metadata": {},
   "outputs": [],
   "source": [
    "my_dict2.update(my_dict1)"
   ]
  },
  {
   "cell_type": "code",
   "execution_count": 65,
   "id": "19f2c52e",
   "metadata": {},
   "outputs": [
    {
     "data": {
      "text/plain": [
       "{'Fatoumata': 5,\n",
       " 'Khadidia': 42,\n",
       " 'Doc yae': ['Python', 'Bloc 1'],\n",
       " 'Pathe': ['Tutor', 'AIMS-SN']}"
      ]
     },
     "execution_count": 65,
     "metadata": {},
     "output_type": "execute_result"
    }
   ],
   "source": [
    "my_dict2"
   ]
  },
  {
   "cell_type": "code",
   "execution_count": null,
   "id": "48465b65",
   "metadata": {},
   "outputs": [],
   "source": []
  }
 ],
 "metadata": {
  "kernelspec": {
   "display_name": "Python 3 (ipykernel)",
   "language": "python",
   "name": "python3"
  },
  "language_info": {
   "codemirror_mode": {
    "name": "ipython",
    "version": 3
   },
   "file_extension": ".py",
   "mimetype": "text/x-python",
   "name": "python",
   "nbconvert_exporter": "python",
   "pygments_lexer": "ipython3",
   "version": "3.10.12"
  }
 },
 "nbformat": 4,
 "nbformat_minor": 5
}
