{
 "cells": [
  {
   "cell_type": "code",
   "execution_count": 1,
   "id": "864a3f57",
   "metadata": {},
   "outputs": [],
   "source": [
    "my_name = 'Efua GODgirl'\n",
    "my_age = 23\n",
    "my_height = 3.2"
   ]
  },
  {
   "cell_type": "code",
   "execution_count": 2,
   "id": "39c6a816",
   "metadata": {},
   "outputs": [
    {
     "data": {
      "text/plain": [
       "3.2"
      ]
     },
     "execution_count": 2,
     "metadata": {},
     "output_type": "execute_result"
    }
   ],
   "source": [
    "my_height"
   ]
  },
  {
   "cell_type": "code",
   "execution_count": 3,
   "id": "85eea696",
   "metadata": {},
   "outputs": [
    {
     "data": {
      "text/plain": [
       "int"
      ]
     },
     "execution_count": 3,
     "metadata": {},
     "output_type": "execute_result"
    }
   ],
   "source": [
    "type(my_age)"
   ]
  },
  {
   "cell_type": "code",
   "execution_count": 4,
   "id": "8d897da6",
   "metadata": {},
   "outputs": [
    {
     "name": "stdout",
     "output_type": "stream",
     "text": [
      "My full name is Efua GODgirl Sackey\n"
     ]
    }
   ],
   "source": [
    "my_first_name = 'Efua GODgirl'\n",
    "my_last_name = 'Sackey'\n",
    "print('My full name is',my_first_name + ' ' + my_last_name)"
   ]
  },
  {
   "cell_type": "code",
   "execution_count": 5,
   "id": "ef0fcd3d",
   "metadata": {},
   "outputs": [
    {
     "ename": "TypeError",
     "evalue": "unsupported operand type(s) for +: 'int' and 'str'",
     "output_type": "error",
     "traceback": [
      "\u001b[0;31m---------------------------------------------------------------------------\u001b[0m",
      "\u001b[0;31mTypeError\u001b[0m                                 Traceback (most recent call last)",
      "\u001b[0;32m/tmp/ipykernel_35568/1572408260.py\u001b[0m in \u001b[0;36m<module>\u001b[0;34m\u001b[0m\n\u001b[0;32m----> 1\u001b[0;31m \u001b[0mmy_age\u001b[0m \u001b[0;34m+\u001b[0m \u001b[0mmy_first_name\u001b[0m\u001b[0;34m\u001b[0m\u001b[0;34m\u001b[0m\u001b[0m\n\u001b[0m",
      "\u001b[0;31mTypeError\u001b[0m: unsupported operand type(s) for +: 'int' and 'str'"
     ]
    }
   ],
   "source": [
    "my_age + my_first_name"
   ]
  },
  {
   "cell_type": "code",
   "execution_count": 6,
   "id": "9d6f9804",
   "metadata": {},
   "outputs": [
    {
     "data": {
      "text/plain": [
       "'23Efua GODgirl'"
      ]
     },
     "execution_count": 6,
     "metadata": {},
     "output_type": "execute_result"
    }
   ],
   "source": [
    "str(my_age)+my_first_name"
   ]
  },
  {
   "cell_type": "code",
   "execution_count": 7,
   "id": "f36a8de8",
   "metadata": {},
   "outputs": [
    {
     "data": {
      "text/plain": [
       "'E'"
      ]
     },
     "execution_count": 7,
     "metadata": {},
     "output_type": "execute_result"
    }
   ],
   "source": [
    "my_first_name[0]"
   ]
  },
  {
   "cell_type": "code",
   "execution_count": 8,
   "id": "4e0aa181",
   "metadata": {},
   "outputs": [
    {
     "data": {
      "text/plain": [
       "[23, 'Efua GODgirl', 'Sackey', 3.2]"
      ]
     },
     "execution_count": 8,
     "metadata": {},
     "output_type": "execute_result"
    }
   ],
   "source": [
    "my_list = [my_age,my_first_name,my_last_name,my_height]\n",
    "my_list"
   ]
  },
  {
   "cell_type": "code",
   "execution_count": 9,
   "id": "5d17b9d4",
   "metadata": {},
   "outputs": [
    {
     "data": {
      "text/plain": [
       "'Sackey'"
      ]
     },
     "execution_count": 9,
     "metadata": {},
     "output_type": "execute_result"
    }
   ],
   "source": [
    "my_list[2]"
   ]
  },
  {
   "cell_type": "code",
   "execution_count": 10,
   "id": "ec92a62c",
   "metadata": {},
   "outputs": [
    {
     "data": {
      "text/plain": [
       "{'a': 23, 'b': 3.2}"
      ]
     },
     "execution_count": 10,
     "metadata": {},
     "output_type": "execute_result"
    }
   ],
   "source": [
    "my_dict ={'a':my_age,'b':my_height}\n",
    "my_dict"
   ]
  },
  {
   "cell_type": "code",
   "execution_count": 11,
   "id": "ea3a3394",
   "metadata": {},
   "outputs": [
    {
     "name": "stdout",
     "output_type": "stream",
     "text": [
      "23\n"
     ]
    },
    {
     "ename": "TypeError",
     "evalue": "'>=' not supported between instances of 'str' and 'int'",
     "output_type": "error",
     "traceback": [
      "\u001b[0;31m---------------------------------------------------------------------------\u001b[0m",
      "\u001b[0;31mTypeError\u001b[0m                                 Traceback (most recent call last)",
      "\u001b[0;32m/tmp/ipykernel_35568/1951553328.py\u001b[0m in \u001b[0;36m<module>\u001b[0;34m\u001b[0m\n\u001b[1;32m      1\u001b[0m \u001b[0;32mfor\u001b[0m \u001b[0mi\u001b[0m \u001b[0;32min\u001b[0m \u001b[0mmy_list\u001b[0m\u001b[0;34m:\u001b[0m\u001b[0;34m\u001b[0m\u001b[0;34m\u001b[0m\u001b[0m\n\u001b[0;32m----> 2\u001b[0;31m     \u001b[0;32mif\u001b[0m \u001b[0mi\u001b[0m \u001b[0;34m>=\u001b[0m \u001b[0;36m0\u001b[0m\u001b[0;34m:\u001b[0m\u001b[0;34m\u001b[0m\u001b[0;34m\u001b[0m\u001b[0m\n\u001b[0m\u001b[1;32m      3\u001b[0m         \u001b[0mprint\u001b[0m\u001b[0;34m(\u001b[0m\u001b[0mi\u001b[0m\u001b[0;34m)\u001b[0m\u001b[0;34m\u001b[0m\u001b[0;34m\u001b[0m\u001b[0m\n",
      "\u001b[0;31mTypeError\u001b[0m: '>=' not supported between instances of 'str' and 'int'"
     ]
    }
   ],
   "source": [
    "for i in my_list:\n",
    "    if i >= 0:\n",
    "        print(i)"
   ]
  },
  {
   "cell_type": "code",
   "execution_count": 12,
   "id": "af8a1793",
   "metadata": {},
   "outputs": [
    {
     "name": "stdout",
     "output_type": "stream",
     "text": [
      "23\n",
      "Efua GODgirl\n",
      "Sackey\n",
      "3.2\n"
     ]
    }
   ],
   "source": [
    "for i in my_list:\n",
    "    if str(i)>=str(0):\n",
    "        print(i)"
   ]
  },
  {
   "cell_type": "code",
   "execution_count": 13,
   "id": "90f1c5b8",
   "metadata": {},
   "outputs": [
    {
     "data": {
      "text/plain": [
       "True"
      ]
     },
     "execution_count": 13,
     "metadata": {},
     "output_type": "execute_result"
    }
   ],
   "source": [
    "'Efua' >= '0'"
   ]
  },
  {
   "cell_type": "code",
   "execution_count": 14,
   "id": "623e6f36",
   "metadata": {},
   "outputs": [
    {
     "data": {
      "text/plain": [
       "False"
      ]
     },
     "execution_count": 14,
     "metadata": {},
     "output_type": "execute_result"
    }
   ],
   "source": [
    "'E' >= 'F'"
   ]
  },
  {
   "cell_type": "code",
   "execution_count": 15,
   "id": "a4bf2fd4",
   "metadata": {},
   "outputs": [],
   "source": [
    "#what it is essentially doing is comparing the strings in alphabetical \n",
    "#order with numbers being 'less than' alphabets. This is very interesting\n"
   ]
  },
  {
   "cell_type": "code",
   "execution_count": 16,
   "id": "9cbc5c6e",
   "metadata": {},
   "outputs": [
    {
     "data": {
      "text/plain": [
       "False"
      ]
     },
     "execution_count": 16,
     "metadata": {},
     "output_type": "execute_result"
    }
   ],
   "source": [
    "' Efua ' >= 'GODgirl'"
   ]
  },
  {
   "cell_type": "code",
   "execution_count": 17,
   "id": "30445d00",
   "metadata": {},
   "outputs": [],
   "source": [
    "#because E is 'less than' G."
   ]
  },
  {
   "cell_type": "code",
   "execution_count": 18,
   "id": "b7621cb4",
   "metadata": {},
   "outputs": [
    {
     "data": {
      "text/plain": [
       "True"
      ]
     },
     "execution_count": 18,
     "metadata": {},
     "output_type": "execute_result"
    }
   ],
   "source": [
    "'Efua' <= 'GODgirl'"
   ]
  },
  {
   "cell_type": "code",
   "execution_count": 19,
   "id": "303c3d10",
   "metadata": {},
   "outputs": [
    {
     "name": "stdout",
     "output_type": "stream",
     "text": [
      "True\n"
     ]
    }
   ],
   "source": [
    "x = 200\n",
    "y = 200\n",
    "print(x is y)"
   ]
  },
  {
   "cell_type": "code",
   "execution_count": 20,
   "id": "298aaacc",
   "metadata": {},
   "outputs": [
    {
     "data": {
      "text/plain": [
       "True"
      ]
     },
     "execution_count": 20,
     "metadata": {},
     "output_type": "execute_result"
    }
   ],
   "source": [
    "x is y"
   ]
  },
  {
   "cell_type": "code",
   "execution_count": 21,
   "id": "0c4cb03d",
   "metadata": {},
   "outputs": [
    {
     "name": "stdout",
     "output_type": "stream",
     "text": [
      "False\n"
     ]
    }
   ],
   "source": [
    "x = 1000\n",
    "y = 1000\n",
    "print(x is y)"
   ]
  },
  {
   "cell_type": "code",
   "execution_count": 22,
   "id": "9fda4599",
   "metadata": {},
   "outputs": [
    {
     "data": {
      "text/plain": [
       "True"
      ]
     },
     "execution_count": 22,
     "metadata": {},
     "output_type": "execute_result"
    }
   ],
   "source": [
    "x == y"
   ]
  },
  {
   "cell_type": "code",
   "execution_count": 23,
   "id": "418e20f3",
   "metadata": {},
   "outputs": [
    {
     "data": {
      "text/plain": [
       "False"
      ]
     },
     "execution_count": 23,
     "metadata": {},
     "output_type": "execute_result"
    }
   ],
   "source": [
    "x is y"
   ]
  },
  {
   "cell_type": "code",
   "execution_count": 24,
   "id": "0443ea73",
   "metadata": {},
   "outputs": [
    {
     "name": "stdout",
     "output_type": "stream",
     "text": [
      "True\n"
     ]
    }
   ],
   "source": [
    "x = 100\n",
    "y = 100\n",
    "print(x is y)"
   ]
  },
  {
   "cell_type": "code",
   "execution_count": 25,
   "id": "716b942e",
   "metadata": {},
   "outputs": [
    {
     "name": "stdout",
     "output_type": "stream",
     "text": [
      "False\n"
     ]
    }
   ],
   "source": [
    "x = 30000\n",
    "y = 30000\n",
    "print(x is y)"
   ]
  },
  {
   "cell_type": "code",
   "execution_count": 43,
   "id": "feb2f252",
   "metadata": {},
   "outputs": [
    {
     "name": "stdout",
     "output_type": "stream",
     "text": [
      "False\n"
     ]
    }
   ],
   "source": [
    "x = 257\n",
    "y = 257\n",
    "print(x is y)"
   ]
  },
  {
   "cell_type": "code",
   "execution_count": 46,
   "id": "320b01a3",
   "metadata": {},
   "outputs": [
    {
     "name": "stdout",
     "output_type": "stream",
     "text": [
      "[0, 1, 2, 3, 4, 5, 6, 7, 8, 9, 10, 11, 12, 13, 14, 15, 16, 17, 18, 19, 20, 21, 22, 23, 24, 25, 26, 27, 28, 29, 30, 31, 32, 33, 34, 35, 36, 37, 38, 39, 40, 41, 42, 43, 44, 45, 46, 47, 48, 49, 50, 51, 52, 53, 54, 55, 56, 57, 58, 59, 60, 61, 62, 63, 64, 65, 66, 67, 68, 69, 70, 71, 72, 73, 74, 75, 76, 77, 78, 79, 80, 81, 82, 83, 84, 85, 86, 87, 88, 89, 90, 91, 92, 93, 94, 95, 96, 97, 98, 99, 100, 101, 102, 103, 104, 105, 106, 107, 108, 109, 110, 111, 112, 113, 114, 115, 116, 117, 118, 119, 120, 121, 122, 123, 124, 125, 126, 127, 128, 129, 130, 131, 132, 133, 134, 135, 136, 137, 138, 139, 140, 141, 142, 143, 144, 145, 146, 147, 148, 149, 150, 151, 152, 153, 154, 155, 156, 157, 158, 159, 160, 161, 162, 163, 164, 165, 166, 167, 168, 169, 170, 171, 172, 173, 174, 175, 176, 177, 178, 179, 180, 181, 182, 183, 184, 185, 186, 187, 188, 189, 190, 191, 192, 193, 194, 195, 196, 197, 198, 199, 200, 201, 202, 203, 204, 205, 206, 207, 208, 209, 210, 211, 212, 213, 214, 215, 216, 217, 218, 219, 220, 221, 222, 223, 224, 225, 226, 227, 228, 229, 230, 231, 232, 233, 234, 235, 236, 237, 238, 239, 240, 241, 242, 243, 244, 245, 246, 247, 248, 249, 250, 251, 252, 253, 254, 255, 256, 257, 258, 259, 260, 261, 262, 263, 264, 265, 266, 267, 268, 269, 270, 271, 272, 273, 274, 275, 276, 277, 278, 279, 280, 281, 282, 283, 284, 285, 286, 287, 288, 289, 290, 291, 292, 293, 294, 295, 296, 297, 298, 299] []\n"
     ]
    }
   ],
   "source": [
    "t = []\n",
    "f= []\n",
    "for i in range(300):\n",
    "    x = i\n",
    "    y = i\n",
    "    if x is y:\n",
    "        t.append(x)\n",
    "    else:\n",
    "        f.append(x)\n",
    "        \n",
    "print(t,f)"
   ]
  },
  {
   "cell_type": "code",
   "execution_count": null,
   "id": "19a2c573",
   "metadata": {},
   "outputs": [],
   "source": []
  }
 ],
 "metadata": {
  "kernelspec": {
   "display_name": "Python 3 (ipykernel)",
   "language": "python",
   "name": "python3"
  },
  "language_info": {
   "codemirror_mode": {
    "name": "ipython",
    "version": 3
   },
   "file_extension": ".py",
   "mimetype": "text/x-python",
   "name": "python",
   "nbconvert_exporter": "python",
   "pygments_lexer": "ipython3",
   "version": "3.10.12"
  }
 },
 "nbformat": 4,
 "nbformat_minor": 5
}
