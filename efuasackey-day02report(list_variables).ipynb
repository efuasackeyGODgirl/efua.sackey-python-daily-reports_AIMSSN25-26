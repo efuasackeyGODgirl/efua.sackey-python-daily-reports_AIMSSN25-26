{
 "cells": [
  {
   "cell_type": "code",
   "execution_count": 1,
   "id": "e7328590",
   "metadata": {},
   "outputs": [],
   "source": [
    "my_first_names = 'Efua GODgirl'\n",
    "my_last_name_thatwsc = 'Sackey'\n",
    "my_age = 23"
   ]
  },
  {
   "cell_type": "code",
   "execution_count": 2,
   "id": "7f2f66b7",
   "metadata": {},
   "outputs": [
    {
     "name": "stdout",
     "output_type": "stream",
     "text": [
      "23 Efua GODgirl Sackey\n"
     ]
    }
   ],
   "source": [
    "print(my_age,my_first_names,my_last_name_thatwsc)"
   ]
  },
  {
   "cell_type": "code",
   "execution_count": 3,
   "id": "f407ac7f",
   "metadata": {},
   "outputs": [
    {
     "name": "stdout",
     "output_type": "stream",
     "text": [
      "23\n",
      "Efua GODgirl\n",
      "Sackey\n"
     ]
    }
   ],
   "source": [
    "print(my_age)\n",
    "print(my_first_names)\n",
    "print(my_last_name_thatwsc)"
   ]
  },
  {
   "cell_type": "code",
   "execution_count": 4,
   "id": "9796b6f3",
   "metadata": {},
   "outputs": [
    {
     "data": {
      "text/plain": [
       "int"
      ]
     },
     "execution_count": 4,
     "metadata": {},
     "output_type": "execute_result"
    }
   ],
   "source": [
    "type(my_age)"
   ]
  },
  {
   "cell_type": "code",
   "execution_count": 5,
   "id": "7aa3b338",
   "metadata": {},
   "outputs": [
    {
     "data": {
      "text/plain": [
       "str"
      ]
     },
     "execution_count": 5,
     "metadata": {},
     "output_type": "execute_result"
    }
   ],
   "source": [
    "type(my_last_name_thatwsc)"
   ]
  },
  {
   "cell_type": "code",
   "execution_count": 6,
   "id": "a03da27d",
   "metadata": {},
   "outputs": [],
   "source": [
    "my_height = 132.5"
   ]
  },
  {
   "cell_type": "code",
   "execution_count": 7,
   "id": "aeca122b",
   "metadata": {},
   "outputs": [
    {
     "data": {
      "text/plain": [
       "23.5"
      ]
     },
     "execution_count": 7,
     "metadata": {},
     "output_type": "execute_result"
    }
   ],
   "source": [
    "my_age + 0.5"
   ]
  },
  {
   "cell_type": "code",
   "execution_count": 8,
   "id": "58bd07b6",
   "metadata": {},
   "outputs": [],
   "source": [
    "my_age+=0.5"
   ]
  },
  {
   "cell_type": "code",
   "execution_count": 9,
   "id": "afcb750b",
   "metadata": {},
   "outputs": [
    {
     "data": {
      "text/plain": [
       "23.5"
      ]
     },
     "execution_count": 9,
     "metadata": {},
     "output_type": "execute_result"
    }
   ],
   "source": [
    "my_age"
   ]
  },
  {
   "cell_type": "code",
   "execution_count": 10,
   "id": "da2fef5f",
   "metadata": {},
   "outputs": [],
   "source": [
    "my_age-=0.5"
   ]
  },
  {
   "cell_type": "code",
   "execution_count": 11,
   "id": "3da5325b",
   "metadata": {},
   "outputs": [
    {
     "data": {
      "text/plain": [
       "23.0"
      ]
     },
     "execution_count": 11,
     "metadata": {},
     "output_type": "execute_result"
    }
   ],
   "source": [
    "my_age"
   ]
  },
  {
   "cell_type": "code",
   "execution_count": 12,
   "id": "9a136a4c",
   "metadata": {},
   "outputs": [
    {
     "data": {
      "text/plain": [
       "float"
      ]
     },
     "execution_count": 12,
     "metadata": {},
     "output_type": "execute_result"
    }
   ],
   "source": [
    "type(my_age)"
   ]
  },
  {
   "cell_type": "code",
   "execution_count": 13,
   "id": "d13b8ed9",
   "metadata": {},
   "outputs": [
    {
     "name": "stdout",
     "output_type": "stream",
     "text": [
      "132.5\n"
     ]
    }
   ],
   "source": [
    "print(my_height)"
   ]
  },
  {
   "cell_type": "code",
   "execution_count": 14,
   "id": "e7e18083",
   "metadata": {},
   "outputs": [
    {
     "data": {
      "text/plain": [
       "float"
      ]
     },
     "execution_count": 14,
     "metadata": {},
     "output_type": "execute_result"
    }
   ],
   "source": [
    "type(my_height)"
   ]
  },
  {
   "cell_type": "code",
   "execution_count": 15,
   "id": "ad2b836d",
   "metadata": {},
   "outputs": [
    {
     "data": {
      "text/plain": [
       "23"
      ]
     },
     "execution_count": 15,
     "metadata": {},
     "output_type": "execute_result"
    }
   ],
   "source": [
    "int(my_age)"
   ]
  },
  {
   "cell_type": "code",
   "execution_count": 16,
   "id": "a8069bb4",
   "metadata": {},
   "outputs": [],
   "source": [
    "my_age=int(my_age)"
   ]
  },
  {
   "cell_type": "code",
   "execution_count": 17,
   "id": "dfa5e039",
   "metadata": {},
   "outputs": [
    {
     "data": {
      "text/plain": [
       "23"
      ]
     },
     "execution_count": 17,
     "metadata": {},
     "output_type": "execute_result"
    }
   ],
   "source": [
    "my_age"
   ]
  },
  {
   "cell_type": "code",
   "execution_count": 18,
   "id": "66922a82",
   "metadata": {},
   "outputs": [
    {
     "data": {
      "text/plain": [
       "int"
      ]
     },
     "execution_count": 18,
     "metadata": {},
     "output_type": "execute_result"
    }
   ],
   "source": [
    "type(my_age)"
   ]
  },
  {
   "cell_type": "code",
   "execution_count": 19,
   "id": "1cac735b",
   "metadata": {},
   "outputs": [],
   "source": [
    "my_int_1 = 97\n",
    "my_int_2 = 80\n",
    "my_float_1 = 7.9"
   ]
  },
  {
   "cell_type": "code",
   "execution_count": 20,
   "id": "5a0429a8",
   "metadata": {},
   "outputs": [
    {
     "name": "stdout",
     "output_type": "stream",
     "text": [
      "97 80 7.9\n"
     ]
    }
   ],
   "source": [
    "print(my_int_1,my_int_2,my_float_1)"
   ]
  },
  {
   "cell_type": "code",
   "execution_count": 21,
   "id": "864ae824",
   "metadata": {},
   "outputs": [],
   "source": [
    "my_comb_1 = my_float_1 + my_int_1"
   ]
  },
  {
   "cell_type": "code",
   "execution_count": 22,
   "id": "3f862467",
   "metadata": {},
   "outputs": [
    {
     "name": "stdout",
     "output_type": "stream",
     "text": [
      "104.9\n"
     ]
    }
   ],
   "source": [
    "print(my_comb_1)"
   ]
  },
  {
   "cell_type": "code",
   "execution_count": 23,
   "id": "df62ad59",
   "metadata": {},
   "outputs": [
    {
     "data": {
      "text/plain": [
       "float"
      ]
     },
     "execution_count": 23,
     "metadata": {},
     "output_type": "execute_result"
    }
   ],
   "source": [
    "type(my_comb_1)"
   ]
  },
  {
   "cell_type": "code",
   "execution_count": 24,
   "id": "c502b527",
   "metadata": {},
   "outputs": [
    {
     "data": {
      "text/plain": [
       "7"
      ]
     },
     "execution_count": 24,
     "metadata": {},
     "output_type": "execute_result"
    }
   ],
   "source": [
    "int(my_float_1)"
   ]
  },
  {
   "cell_type": "code",
   "execution_count": 25,
   "id": "de657136",
   "metadata": {},
   "outputs": [
    {
     "data": {
      "text/plain": [
       "7.9"
      ]
     },
     "execution_count": 25,
     "metadata": {},
     "output_type": "execute_result"
    }
   ],
   "source": [
    "float(my_float_1)"
   ]
  },
  {
   "cell_type": "code",
   "execution_count": 26,
   "id": "e4e923c2",
   "metadata": {},
   "outputs": [],
   "source": [
    "my_1 = -15\n",
    "my_float_2 = float(my_1)"
   ]
  },
  {
   "cell_type": "code",
   "execution_count": 27,
   "id": "10371827",
   "metadata": {},
   "outputs": [
    {
     "name": "stdout",
     "output_type": "stream",
     "text": [
      "-15 <class 'int'>\n",
      "-15.0 <class 'float'>\n"
     ]
    }
   ],
   "source": [
    "print(my_1,type(my_1))\n",
    "print(my_float_2,type(my_float_2))"
   ]
  },
  {
   "cell_type": "code",
   "execution_count": 28,
   "id": "8f9dc878",
   "metadata": {},
   "outputs": [],
   "source": [
    "my_string = str(my_float_2)"
   ]
  },
  {
   "cell_type": "code",
   "execution_count": 29,
   "id": "c841d4c8",
   "metadata": {},
   "outputs": [
    {
     "name": "stdout",
     "output_type": "stream",
     "text": [
      "Enter your age: 24\n"
     ]
    }
   ],
   "source": [
    "his_age = input(\"Enter your age: \")"
   ]
  },
  {
   "cell_type": "code",
   "execution_count": 30,
   "id": "d9cc65e0",
   "metadata": {},
   "outputs": [
    {
     "data": {
      "text/plain": [
       "'24'"
      ]
     },
     "execution_count": 30,
     "metadata": {},
     "output_type": "execute_result"
    }
   ],
   "source": [
    "his_age"
   ]
  },
  {
   "cell_type": "code",
   "execution_count": 31,
   "id": "15971d31",
   "metadata": {},
   "outputs": [],
   "source": [
    "my_nice_string = \"I am a student at AIMS Senegal.\""
   ]
  },
  {
   "cell_type": "code",
   "execution_count": 32,
   "id": "aae55ef2",
   "metadata": {},
   "outputs": [
    {
     "data": {
      "text/plain": [
       "str"
      ]
     },
     "execution_count": 32,
     "metadata": {},
     "output_type": "execute_result"
    }
   ],
   "source": [
    "type(my_nice_string)"
   ]
  },
  {
   "cell_type": "code",
   "execution_count": 33,
   "id": "b993059a",
   "metadata": {},
   "outputs": [
    {
     "name": "stdout",
     "output_type": "stream",
     "text": [
      "I am a student at AIMS Senegal.\n"
     ]
    }
   ],
   "source": [
    "print(my_nice_string)"
   ]
  },
  {
   "cell_type": "code",
   "execution_count": 34,
   "id": "fe26b789",
   "metadata": {},
   "outputs": [
    {
     "data": {
      "text/plain": [
       "'I'"
      ]
     },
     "execution_count": 34,
     "metadata": {},
     "output_type": "execute_result"
    }
   ],
   "source": [
    "my_nice_string[0]"
   ]
  },
  {
   "cell_type": "code",
   "execution_count": 35,
   "id": "49cacb14",
   "metadata": {},
   "outputs": [
    {
     "data": {
      "text/plain": [
       "' '"
      ]
     },
     "execution_count": 35,
     "metadata": {},
     "output_type": "execute_result"
    }
   ],
   "source": [
    "my_nice_string[1]"
   ]
  },
  {
   "cell_type": "code",
   "execution_count": 36,
   "id": "d08d8abe",
   "metadata": {},
   "outputs": [
    {
     "data": {
      "text/plain": [
       "'a'"
      ]
     },
     "execution_count": 36,
     "metadata": {},
     "output_type": "execute_result"
    }
   ],
   "source": [
    "my_nice_string[-3]"
   ]
  },
  {
   "cell_type": "code",
   "execution_count": 38,
   "id": "d4e87ca9",
   "metadata": {},
   "outputs": [
    {
     "data": {
      "text/plain": [
       "'AIMS'"
      ]
     },
     "execution_count": 38,
     "metadata": {},
     "output_type": "execute_result"
    }
   ],
   "source": [
    "my_nice_string[-13:-9]"
   ]
  },
  {
   "cell_type": "code",
   "execution_count": 43,
   "id": "d3871b06",
   "metadata": {},
   "outputs": [
    {
     "data": {
      "text/plain": [
       "' mas'"
      ]
     },
     "execution_count": 43,
     "metadata": {},
     "output_type": "execute_result"
    }
   ],
   "source": [
    "my_nice_string[1:9:2]"
   ]
  },
  {
   "cell_type": "code",
   "execution_count": null,
   "id": "8e6f4fc6",
   "metadata": {},
   "outputs": [],
   "source": []
  }
 ],
 "metadata": {
  "kernelspec": {
   "display_name": "Python 3 (ipykernel)",
   "language": "python",
   "name": "python3"
  },
  "language_info": {
   "codemirror_mode": {
    "name": "ipython",
    "version": 3
   },
   "file_extension": ".py",
   "mimetype": "text/x-python",
   "name": "python",
   "nbconvert_exporter": "python",
   "pygments_lexer": "ipython3",
   "version": "3.10.12"
  }
 },
 "nbformat": 4,
 "nbformat_minor": 5
}
